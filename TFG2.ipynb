{
  "nbformat": 4,
  "nbformat_minor": 0,
  "metadata": {
    "colab": {
      "provenance": [],
      "authorship_tag": "ABX9TyP05PQBlOxevKxjS7Bi/Srm",
      "include_colab_link": true
    },
    "kernelspec": {
      "name": "python3",
      "display_name": "Python 3"
    },
    "language_info": {
      "name": "python"
    }
  },
  "cells": [
    {
      "cell_type": "markdown",
      "metadata": {
        "id": "view-in-github",
        "colab_type": "text"
      },
      "source": [
        "<a href=\"https://colab.research.google.com/github/SoniaRFdz/TFG/blob/main/TFG2.ipynb\" target=\"_parent\"><img src=\"https://colab.research.google.com/assets/colab-badge.svg\" alt=\"Open In Colab\"/></a>"
      ]
    },
    {
      "cell_type": "code",
      "execution_count": null,
      "metadata": {
        "id": "gMmBZdZn-9I5"
      },
      "outputs": [],
      "source": [
        "import pandas as pd\n",
        "\n",
        "# Cargar los datos desde el archivo CSV\n",
        "data = pd.read_csv('/content/simulated_pipe_flow_data.csv')\n",
        "\n",
        "# Ver los primeros 5 registros para asegurarnos de que los datos se cargaron correctamente\n",
        "print(data.head())\n",
        "\n",
        "\n",
        "from sklearn.model_selection import train_test_split\n",
        "from sklearn.preprocessing import StandardScaler\n",
        "\n",
        "# Dividir los datos en X (características) e y (flujo)\n",
        "X = data[['Diameter (m)', 'Pressure (Pa)', 'Velocity (m/s)']].values\n",
        "y = data['Flow (m³/s)'].values\n",
        "\n",
        "# Dividir los datos en conjunto de entrenamiento y prueba\n",
        "X_train, X_test, y_train, y_test = train_test_split(X, y, test_size=0.2, random_state=42)\n",
        "\n",
        "# Normalizar las características\n",
        "scaler = StandardScaler()\n",
        "X_train = scaler.fit_transform(X_train)\n",
        "X_test = scaler.transform(X_test)\n",
        "\n",
        "\n",
        "\n",
        "import tensorflow as tf\n",
        "from tensorflow.keras.models import Sequential\n",
        "from tensorflow.keras.layers import Dense\n",
        "\n",
        "# Crear el modelo de red neuronal\n",
        "model = Sequential()\n",
        "\n",
        "# Capa de entrada y primera capa oculta con 64 neuronas\n",
        "model.add(Dense(64, input_dim=3, activation='relu'))\n",
        "\n",
        "# Segunda capa oculta con 32 neuronas\n",
        "model.add(Dense(32, activation='relu'))\n",
        "\n",
        "# Capa de salida para predecir un solo valor (flujo)\n",
        "model.add(Dense(1))\n",
        "\n",
        "# Compilar el modelo\n",
        "model.compile(optimizer='adam', loss='mean_squared_error')\n",
        "\n",
        "# Entrenar el modelo\n",
        "history = model.fit(X_train, y_train, epochs=50, batch_size=32, validation_split=0.2)\n",
        "\n",
        "\n",
        "# Evaluar el modelo en los datos de prueba\n",
        "loss = model.evaluate(X_test, y_test)\n",
        "print(f\"Error cuadrático medio en el conjunto de prueba: {loss}\")\n",
        "\n",
        "# Hacer predicciones\n",
        "predicciones = model.predict(X_test)\n",
        "\n",
        "# Imprimir algunas predicciones junto a los valores reales\n",
        "for i in range(5):\n",
        "    print(f\"Predicción: {predicciones[i][0]}, Valor real: {y_test[i]}\")\n",
        "\n",
        "#FIRST ATTEMPT: FAIL. Cuadratic error too elevate. Possible solutions: 1)More layers or neurons, 2)not enough training.\n"
      ]
    },
    {
      "cell_type": "code",
      "source": [
        "import pandas as pd\n",
        "from sklearn.model_selection import train_test_split\n",
        "from sklearn.preprocessing import StandardScaler\n",
        "import tensorflow as tf\n",
        "from tensorflow.keras.models import Sequential\n",
        "from tensorflow.keras.layers import Dense, Dropout, Input\n",
        "from tensorflow.keras.optimizers import Adam\n",
        "\n",
        "# Cargar los datos desde el archivo CSV\n",
        "data = pd.read_csv('simulated_pipe_flow_data.csv')\n",
        "\n",
        "# Dividir los datos en X (características) e y (flujo)\n",
        "X = data[['Diameter (m)', 'Pressure (Pa)', 'Velocity (m/s)']].values\n",
        "y = data['Flow (m³/s)'].values\n",
        "\n",
        "# Normalizar la salida (flujo) para que esté en la misma escala que las características\n",
        "scaler_y = StandardScaler()\n",
        "y_normalized = scaler_y.fit_transform(y.reshape(-1, 1))\n",
        "\n",
        "# Dividir en datos de entrenamiento y prueba\n",
        "X_train, X_test, y_train, y_test = train_test_split(X, y_normalized, test_size=0.2, random_state=42)\n",
        "\n",
        "# Normalizar las características\n",
        "scaler_X = StandardScaler()\n",
        "X_train = scaler_X.fit_transform(X_train)\n",
        "X_test = scaler_X.transform(X_test)\n",
        "\n",
        "# Crear el modelo de red neuronal\n",
        "model = Sequential()\n",
        "\n",
        "# Añadir la capa de entrada explícita\n",
        "model.add(Input(shape=(3,)))\n",
        "\n",
        "# Primera capa oculta con regularización L2\n",
        "model.add(Dense(64, activation='relu', kernel_regularizer=tf.keras.regularizers.l2(0.001)))\n",
        "\n",
        "# Segunda capa oculta\n",
        "model.add(Dense(64, activation='relu', kernel_regularizer=tf.keras.regularizers.l2(0.001)))\n",
        "\n",
        "# Tercera capa oculta con dropout\n",
        "model.add(Dense(32, activation='relu'))\n",
        "model.add(Dropout(0.3))\n",
        "\n",
        "# Capa de salida\n",
        "model.add(Dense(1))\n",
        "\n",
        "# Compilar el modelo con una tasa de aprendizaje ajustada\n",
        "optimizer = Adam(learning_rate=0.001)\n",
        "model.compile(optimizer=optimizer, loss='mean_squared_error')\n",
        "\n",
        "# Entrenar el modelo\n",
        "history = model.fit(X_train, y_train, epochs=100, batch_size=32, validation_split=0.2, verbose=0)\n",
        "\n",
        "# Evaluar el modelo\n",
        "loss = model.evaluate(X_test, y_test)\n",
        "print(f\"Error cuadrático medio en el conjunto de prueba: {loss}\")\n",
        "\n",
        "# Hacer predicciones\n",
        "predicciones = model.predict(X_test)\n",
        "\n",
        "# Mostrar algunas predicciones\n",
        "for i in range(5):\n",
        "    print(f\"Predicción: {predicciones[i][0]}, Valor real: {y_test[i][0]}\")\n",
        "\n",
        "    #SECOND ATTEMPT: SUCCESS, but improvable\n"
      ],
      "metadata": {
        "id": "O1GY8BhPtg7f",
        "colab": {
          "base_uri": "https://localhost:8080/"
        },
        "outputId": "9d8b957c-c41b-4d0e-fb54-b8137307d1f1"
      },
      "execution_count": 2,
      "outputs": [
        {
          "output_type": "stream",
          "name": "stdout",
          "text": [
            "\u001b[1m7/7\u001b[0m \u001b[32m━━━━━━━━━━━━━━━━━━━━\u001b[0m\u001b[37m\u001b[0m \u001b[1m0s\u001b[0m 4ms/step - loss: 0.0189  \n",
            "Error cuadrático medio en el conjunto de prueba: 0.01920049637556076\n",
            "\u001b[1m7/7\u001b[0m \u001b[32m━━━━━━━━━━━━━━━━━━━━\u001b[0m\u001b[37m\u001b[0m \u001b[1m0s\u001b[0m 15ms/step\n",
            "Predicción: -0.5777406692504883, Valor real: -0.600146044159068\n",
            "Predicción: 0.13815996050834656, Valor real: 0.2354100300526558\n",
            "Predicción: -0.20154434442520142, Valor real: -0.2713056669496903\n",
            "Predicción: -0.3667179346084595, Valor real: -0.42104820605960974\n",
            "Predicción: -0.461667001247406, Valor real: -0.5002226862459505\n"
          ]
        }
      ]
    }
  ]
}
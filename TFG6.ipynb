{
  "cells": [
    {
      "cell_type": "markdown",
      "metadata": {
        "id": "view-in-github",
        "colab_type": "text"
      },
      "source": [
        "<a href=\"https://colab.research.google.com/github/SoniaRFdz/TFG/blob/main/TFG6.ipynb\" target=\"_parent\"><img src=\"https://colab.research.google.com/assets/colab-badge.svg\" alt=\"Open In Colab\"/></a>"
      ]
    },
    {
      "cell_type": "code",
      "source": [
        "import pandas as pd\n",
        "from sklearn.model_selection import train_test_split\n",
        "from sklearn.preprocessing import StandardScaler, MinMaxScaler\n",
        "import tensorflow as tf\n",
        "from tensorflow.keras.models import Sequential\n",
        "from tensorflow.keras.layers import Dense, Dropout, Input\n",
        "from tensorflow.keras.optimizers import Adam\n",
        "from tensorflow.keras.callbacks import EarlyStopping\n",
        "import random\n",
        "\n",
        "# Fijar semillas aleatorias para reproducibilidad (Sin esto nunca se consiguen iguales valores)\n",
        "seed = 42\n",
        "tf.random.set_seed(seed)\n",
        "random.seed(seed)\n",
        "\n",
        "# Cargar los datos\n",
        "data = pd.read_csv('datos_flujo_laminar_simulado.csv')\n",
        "\n",
        "# Definir características (X) y objetivo (y)\n",
        "X = data[['Diametro (m)', 'Presion (Pa)', 'Velocidad (m/s)']].values\n",
        "y = data['Flujo Volumetrico (m³/s)'].values\n",
        "\n",
        "# Escalar los datos de salida entre 0 y 1 (Hay que modificar los datos de flujo porque si no el modelo da problemas de convergencia)\n",
        "scaler_y = MinMaxScaler()\n",
        "y = scaler_y.fit_transform(y.reshape(-1, 1))\n",
        "\n",
        "# Dividir los datos en entrenamiento y prueba\n",
        "X_train, X_test, y_train, y_test = train_test_split(X, y, test_size=0.2, random_state=42)\n",
        "\n",
        "# Escalar las características de entrada (Estandarización de los datos)\n",
        "scaler_X = StandardScaler()\n",
        "X_train = scaler_X.fit_transform(X_train)\n",
        "X_test = scaler_X.transform(X_test)\n",
        "\n",
        "# Definir el modelo de red neuronal\n",
        "model = Sequential([\n",
        "    Input(shape=(3,)),\n",
        "    Dense(32, activation='relu', kernel_regularizer=tf.keras.regularizers.l2(0.0001)),\n",
        "    Dropout(0.1),\n",
        "    Dense(16, activation='relu', kernel_regularizer=tf.keras.regularizers.l2(0.0001)),\n",
        "    Dense(1)\n",
        "])\n",
        "\n",
        "# Compilar el modelo\n",
        "optimizer = Adam(learning_rate=0.0001)\n",
        "model.compile(optimizer=optimizer, loss='mean_squared_error')\n",
        "\n",
        "# Configurar EarlyStopping (Para evitar sobreajustes)\n",
        "early_stopping = EarlyStopping(monitor='val_loss', patience=100, restore_best_weights=True)\n",
        "\n",
        "# Entrenar el modelo (verbose evita que muestre los valores para todas las etapas)\n",
        "history = model.fit(X_train, y_train, epochs=2000, batch_size=32, validation_split=0.2,verbose=0, callbacks=[early_stopping])\n",
        "\n",
        "# Evaluar el modelo en el conjunto de prueba\n",
        "loss = model.evaluate(X_test, y_test)\n",
        "print(f\"Error cuadrático medio en el conjunto de prueba: {loss}\")\n",
        "\n",
        "# Hacer predicciones\n",
        "predicciones = model.predict(X_test)\n",
        "\n",
        "# Invertir la escala de las predicciones para comparar con los valores originales (modifica los datos de salida como al inicio)\n",
        "predicciones_originales = scaler_y.inverse_transform(predicciones)\n",
        "y_test_originales = scaler_y.inverse_transform(y_test)\n",
        "\n",
        "# Mostrar algunas predicciones y valores reales para comparación\n",
        "for i in range(5):\n",
        "    print(f\"Predicción: {predicciones_originales[i][0]}, Valor real: {y_test_originales[i][0]}\")"
      ],
      "metadata": {
        "colab": {
          "base_uri": "https://localhost:8080/"
        },
        "id": "kRzyAm1NUOl1",
        "outputId": "add9d3ae-dd7a-4069-c6eb-1ad8c21770e0"
      },
      "execution_count": 31,
      "outputs": [
        {
          "output_type": "stream",
          "name": "stdout",
          "text": [
            "\u001b[1m1/1\u001b[0m \u001b[32m━━━━━━━━━━━━━━━━━━━━\u001b[0m\u001b[37m\u001b[0m \u001b[1m0s\u001b[0m 26ms/step - loss: 0.0038\n",
            "Error cuadrático medio en el conjunto de prueba: 0.00377859640866518\n",
            "\u001b[1m1/1\u001b[0m \u001b[32m━━━━━━━━━━━━━━━━━━━━\u001b[0m\u001b[37m\u001b[0m \u001b[1m0s\u001b[0m 55ms/step\n",
            "Predicción: 5.975983619689941, Valor real: 5.303646535267333\n",
            "Predicción: -0.5713512301445007, Valor real: 0.0014726215563702\n",
            "Predicción: -0.06908640265464783, Valor real: 0.0007363107781851\n",
            "Predicción: 5.230179786682129, Valor real: 5.026548245743668\n",
            "Predicción: 1.6073483228683472, Valor real: 1.5904312808798335\n"
          ]
        }
      ]
    }
  ],
  "metadata": {
    "colab": {
      "provenance": [],
      "authorship_tag": "ABX9TyOGj/vk5brTh4wpPc9TXRlT",
      "include_colab_link": true
    },
    "kernelspec": {
      "display_name": "Python 3",
      "name": "python3"
    },
    "language_info": {
      "name": "python"
    }
  },
  "nbformat": 4,
  "nbformat_minor": 0
}
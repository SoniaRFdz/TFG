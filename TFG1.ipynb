{
  "cells": [
    {
      "cell_type": "markdown",
      "metadata": {
        "id": "view-in-github",
        "colab_type": "text"
      },
      "source": [
        "<a href=\"https://colab.research.google.com/github/SoniaRFdz/TFG/blob/main/TFG1.ipynb\" target=\"_parent\"><img src=\"https://colab.research.google.com/assets/colab-badge.svg\" alt=\"Open In Colab\"/></a>"
      ]
    },
    {
      "cell_type": "code",
      "execution_count": 2,
      "metadata": {
        "colab": {
          "base_uri": "https://localhost:8080/"
        },
        "id": "O1GY8BhPtg7f",
        "outputId": "206d8683-559a-4e91-8fce-d59dffc2e57b"
      },
      "outputs": [
        {
          "output_type": "stream",
          "name": "stdout",
          "text": [
            "Requirement already satisfied: fluids in /usr/local/lib/python3.10/dist-packages (1.0.26)\n",
            "Requirement already satisfied: numpy>=1.5.0 in /usr/local/lib/python3.10/dist-packages (from fluids) (1.26.4)\n",
            "Requirement already satisfied: scipy>=1.6.0 in /usr/local/lib/python3.10/dist-packages (from fluids) (1.13.1)\n",
            "   Diametro (m)  Presion (Pa)  Velocidad (m/s)  Flujo Volumetrico (m³/s)  \\\n",
            "0          0.01       10000.0             0.01                  0.000245   \n",
            "1          0.01       10000.0             0.12                  0.000245   \n",
            "2          0.01       20000.0             0.01                  0.000491   \n",
            "3          0.01       20000.0             0.12                  0.000491   \n",
            "4          0.01       30000.0             0.01                  0.000736   \n",
            "\n",
            "   Reynolds  \n",
            "0     100.0  \n",
            "1    1200.0  \n",
            "2     100.0  \n",
            "3    1200.0  \n",
            "4     100.0  \n"
          ]
        }
      ],
      "source": [
        "!pip install fluids\n",
        "import numpy as np\n",
        "import pandas as pd\n",
        "from fluids import Reynolds\n",
        "\n",
        "# Definir constantes\n",
        "longitud_tuberia = 10  # en metros, longitud fija de la tubería\n",
        "densidad = 1000        # kg/m³, densidad típica del agua\n",
        "viscosidad = 0.001     # Pa·s, viscosidad típica del agua\n",
        "\n",
        "# Crear rangos de valores para simular\n",
        "diametros = np.linspace(0.01, 0.1, 10)         # en metros, variación de diámetros de 1 a 10 cm\n",
        "presiones = np.linspace(10000, 100000, 10)     # en Pa, variación de la presión\n",
        "velocidades = np.linspace(0.01, 1, 10)         # en m/s, velocidad de flujo\n",
        "\n",
        "# Crear una lista para guardar los datos simulados\n",
        "datos_simulados = []\n",
        "\n",
        "# Generar datos\n",
        "for d in diametros:\n",
        "    for p in presiones:\n",
        "        for v in velocidades:\n",
        "            # Calcular el caudal utilizando la ecuación de flujo laminar de Hagen-Poiseuille\n",
        "            radio = d / 2\n",
        "            flujo_volumetrico = (p * np.pi * radio**4) / (8 * viscosidad * longitud_tuberia)\n",
        "\n",
        "            # Calcular el número de Reynolds\n",
        "            reynolds = Reynolds(V=v, D=d, rho=densidad, mu=viscosidad)\n",
        "\n",
        "            # Solo mantener los datos con flujo laminar\n",
        "            if reynolds < 2000:\n",
        "                datos_simulados.append({\n",
        "                    'Diametro (m)': d,\n",
        "                    'Presion (Pa)': p,\n",
        "                    'Velocidad (m/s)': v,\n",
        "                    'Flujo Volumetrico (m³/s)': flujo_volumetrico,\n",
        "                    'Reynolds': reynolds\n",
        "                })\n",
        "\n",
        "# Convertir los datos a un DataFrame de pandas\n",
        "df_simulado = pd.DataFrame(datos_simulados)\n",
        "\n",
        "# Mostrar los primeros datos simulados\n",
        "print(df_simulado.head())\n",
        "\n",
        "# Guardar en un archivo CSV\n",
        "df_simulado.to_csv('datos_flujo_laminar_simulado.csv', index=False)"
      ]
    }
  ],
  "metadata": {
    "colab": {
      "provenance": [],
      "authorship_tag": "ABX9TyNZs2G0bW4XTgUQ1UIloss0",
      "include_colab_link": true
    },
    "kernelspec": {
      "display_name": "Python 3",
      "name": "python3"
    },
    "language_info": {
      "name": "python"
    }
  },
  "nbformat": 4,
  "nbformat_minor": 0
}